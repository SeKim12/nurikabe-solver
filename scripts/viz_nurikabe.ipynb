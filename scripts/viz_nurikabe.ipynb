{
 "cells": [
  {
   "cell_type": "code",
   "execution_count": 1,
   "metadata": {},
   "outputs": [],
   "source": [
    "import numpy as np\n",
    "import matplotlib.pyplot as plt"
   ]
  },
  {
   "cell_type": "code",
   "execution_count": 4,
   "metadata": {},
   "outputs": [
    {
     "data": {
      "text/plain": [
       "('https://www.janko.at/Raetsel/Nurikabe/0006.a.htm',\n",
       " array([[-1., -1., -1.,  1., -1., -1., -1., -1., -1.,  2.],\n",
       "        [-1.,  1., -1., -1., -1.,  0., -1.,  0., -1.,  0.],\n",
       "        [ 0., -1., -1.,  0.,  0.,  0., -1.,  0., -1., -1.],\n",
       "        [ 0.,  0., -1., -1., -1.,  0., -1.,  0.,  0., -1.],\n",
       "        [ 4., -1., -1.,  1., -1.,  0., -1.,  0., -1., -1.],\n",
       "        [-1., -1.,  0., -1., -1.,  0., -1.,  0., -1.,  0.],\n",
       "        [ 0.,  0.,  0., -1.,  0.,  0., -1.,  0., -1.,  0.],\n",
       "        [ 0., -1., -1., -1.,  0., -1., -1.,  0., -1.,  0.],\n",
       "        [ 7., -1.,  0., -1., 11., -1.,  0.,  0., -1.,  0.],\n",
       "        [ 0., -1.,  3.,  0., -1., -1., 11., -1., -1.,  5.]]))"
      ]
     },
     "execution_count": 4,
     "metadata": {},
     "output_type": "execute_result"
    }
   ],
   "source": [
    "archive = np.load('../data/janko_nurikabe.npz')\n",
    "file = archive.files[5]\n",
    "entry = archive[file]\n",
    "\n",
    "file, entry"
   ]
  },
  {
   "cell_type": "code",
   "execution_count": 5,
   "metadata": {},
   "outputs": [
    {
     "data": {
      "text/plain": [
       "<matplotlib.image.AxesImage at 0x1279ad1c0>"
      ]
     },
     "execution_count": 5,
     "metadata": {},
     "output_type": "execute_result"
    },
    {
     "data": {
      "image/png": "[encoded data removed]",
      "text/plain": [
       "<Figure size 640x480 with 1 Axes>"
      ]
     },
     "metadata": {},
     "output_type": "display_data"
    }
   ],
   "source": [
    "# each cell is represented as -1 (black), 0 (white) or a number (>0)\n",
    "clip = np.minimum(entry, 0)\n",
    "plt.imshow(clip + 1, cmap='grey')"
   ]
  },
  {
   "cell_type": "code",
   "execution_count": null,
   "metadata": {},
   "outputs": [],
   "source": []
  }
 ],
 "metadata": {
  "kernelspec": {
   "display_name": "nubes",
   "language": "python",
   "name": "python3"
  },
  "language_info": {
   "codemirror_mode": {
    "name": "ipython",
    "version": 3
   },
   "file_extension": ".py",
   "mimetype": "text/x-python",
   "name": "python",
   "nbconvert_exporter": "python",
   "pygments_lexer": "ipython3",
   "version": "3.9.19"
  }
 },
 "nbformat": 4,
 "nbformat_minor": 2
}
