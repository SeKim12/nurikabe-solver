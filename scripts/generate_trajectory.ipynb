{
 "cells": [
  {
   "cell_type": "code",
   "execution_count": 19,
   "id": "94c4b64d-c60b-4615-9269-b254a6d1f2f2",
   "metadata": {},
   "outputs": [],
   "source": [
    "import numpy as np\n",
    "import matplotlib.pyplot as plt\n",
    "from matplotlib.colors import ListedColormap, BoundaryNorm\n",
    "import random"
   ]
  },
  {
   "cell_type": "code",
   "execution_count": 6,
   "id": "e85deb0e-efc0-4b73-a236-10bf3dbb3192",
   "metadata": {},
   "outputs": [
    {
     "data": {
      "text/plain": [
       "('https://www.logicgamesonline.com/nurikabe/archive.php?pid=2',\n",
       " array([[ 0.,  4., -1.,  5.,  0., -1., -1., -1., -1.],\n",
       "        [ 0., -1., -1.,  0., -1., -1.,  6.,  0.,  0.],\n",
       "        [ 0., -1.,  0.,  0., -1.,  1., -1., -1.,  0.],\n",
       "        [-1., -1., -1., -1., -1., -1.,  3., -1.,  0.],\n",
       "        [ 0., -1.,  0.,  0., -1.,  0.,  0., -1.,  0.],\n",
       "        [ 0., -1.,  3., -1., -1., -1., -1., -1., -1.],\n",
       "        [ 0., -1., -1.,  5.,  0.,  0.,  0.,  0., -1.],\n",
       "        [ 0.,  0.,  7., -1., -1., -1., -1., -1., -1.],\n",
       "        [ 0., -1., -1., -1.,  0.,  2., -1.,  1., -1.]]))"
      ]
     },
     "execution_count": 6,
     "metadata": {},
     "output_type": "execute_result"
    }
   ],
   "source": [
    "archive = np.load('../data/nurikabe.npz')\n",
    "file = archive.files[1]\n",
    "entry = archive[file]\n",
    "\n",
    "file, entry"
   ]
  },
  {
   "cell_type": "code",
   "execution_count": 7,
   "id": "3139f28c-2312-4853-85e2-2b1054bddcfe",
   "metadata": {},
   "outputs": [
    {
     "data": {
      "text/plain": [
       "<matplotlib.image.AxesImage at 0x7fd1400ce140>"
      ]
     },
     "execution_count": 7,
     "metadata": {},
     "output_type": "execute_result"
    },
    {
     "data": {
      "image/png": "[encoded data removed]",
      "text/plain": [
       "<Figure size 640x480 with 1 Axes>"
      ]
     },
     "metadata": {},
     "output_type": "display_data"
    }
   ],
   "source": [
    "clip = np.minimum(entry, 0)\n",
    "plt.imshow(clip + 1, cmap='grey')"
   ]
  },
  {
   "cell_type": "code",
   "execution_count": 8,
   "id": "7b3ad7dd-4891-4c02-8bbd-445977d6f025",
   "metadata": {},
   "outputs": [
    {
     "data": {
      "text/plain": [
       "('https://www.logicgamesonline.com/nurikabe/archive.php?pid=3',\n",
       " array([[-1., -1., -1., -1.,  3.,  0., -1., -1., -1.],\n",
       "        [-1.,  0.,  0.,  4., -1.,  0., -1.,  0., -1.],\n",
       "        [-1., -1., -1.,  0., -1., -1., -1.,  0., -1.],\n",
       "        [-1.,  0.,  2., -1.,  2.,  0., -1.,  3., -1.],\n",
       "        [-1., -1., -1., -1., -1., -1., -1., -1., -1.],\n",
       "        [-1.,  1., -1.,  0.,  3., -1.,  4.,  0., -1.],\n",
       "        [-1., -1., -1.,  0., -1.,  0., -1.,  0., -1.],\n",
       "        [-1.,  0., -1., -1., -1.,  2., -1.,  0., -1.],\n",
       "        [-1.,  0.,  0.,  0.,  5., -1., -1., -1., -1.]]))"
      ]
     },
     "execution_count": 8,
     "metadata": {},
     "output_type": "execute_result"
    }
   ],
   "source": [
    "file = archive.files[2]\n",
    "entry = archive[file]\n",
    "\n",
    "file, entry"
   ]
  },
  {
   "cell_type": "code",
   "execution_count": 9,
   "id": "cd5a1c9b-cea5-4376-ba37-909b7bf5747e",
   "metadata": {},
   "outputs": [
    {
     "data": {
      "text/plain": [
       "<matplotlib.image.AxesImage at 0x7fd13005e7d0>"
      ]
     },
     "execution_count": 9,
     "metadata": {},
     "output_type": "execute_result"
    },
    {
     "data": {
      "image/png": "[encoded data removed]",
      "text/plain": [
       "<Figure size 640x480 with 1 Axes>"
      ]
     },
     "metadata": {},
     "output_type": "display_data"
    }
   ],
   "source": [
    "clip = np.minimum(entry, 0)\n",
    "plt.imshow(clip + 1, cmap='grey')"
   ]
  },
  {
   "cell_type": "code",
   "execution_count": 24,
   "id": "02bbd897-36a4-42f3-b3c6-a83fddd8d8e6",
   "metadata": {},
   "outputs": [],
   "source": [
    "def generate_trajectory_random(solution):\n",
    "    nrows, ncols = solution.shape\n",
    "    initial_board = np.where(\n",
    "        (solution == 0) | (solution == -1),\n",
    "        -2, solution)\n",
    "    \n",
    "    current_board = np.copy(initial_board)\n",
    "    replaceable_cells = [\n",
    "        (i, j) for i in range(nrows) for j in range(ncols)\n",
    "        if current_board[i, j] == -2]\n",
    "    np.random.shuffle(replaceable_cells)\n",
    "    \n",
    "    trajectory = [np.copy(current_board)]\n",
    "    for cell in replaceable_cells:\n",
    "        i, j = cell\n",
    "        correct_value = solution[i, j]\n",
    "        current_board[i, j] = correct_value\n",
    "        trajectory.append(np.copy(current_board))\n",
    "    \n",
    "    return trajectory\n",
    "\n",
    "solution_board = np.array([\n",
    "    [1, -1, -1, -1],\n",
    "    [-1, 0, -1, 1],\n",
    "    [-1, 2, -1, -1],\n",
    "    [-1, -1, -1, 0],\n",
    "    [2, 0, -1, 2],\n",
    "    [-1, -1, -1, -1]\n",
    "])\n",
    "\n",
    "trajectory = generate_trajectory_random(solution_board)"
   ]
  },
  {
   "cell_type": "code",
   "execution_count": 25,
   "id": "361392c1-c954-4aa9-9ceb-36f125126195",
   "metadata": {},
   "outputs": [
    {
     "data": {
      "text/plain": [
       "[array([[ 1, -2, -2, -2],\n",
       "        [-2, -2, -2,  1],\n",
       "        [-2,  2, -2, -2],\n",
       "        [-2, -2, -2, -2],\n",
       "        [ 2, -2, -2,  2],\n",
       "        [-2, -2, -2, -2]]),\n",
       " array([[ 1, -1, -2, -2],\n",
       "        [-2, -2, -2,  1],\n",
       "        [-2,  2, -2, -2],\n",
       "        [-2, -2, -2, -2],\n",
       "        [ 2, -2, -2,  2],\n",
       "        [-2, -2, -2, -2]]),\n",
       " array([[ 1, -1, -2, -2],\n",
       "        [-2, -2, -2,  1],\n",
       "        [-2,  2, -2, -2],\n",
       "        [-2, -2, -1, -2],\n",
       "        [ 2, -2, -2,  2],\n",
       "        [-2, -2, -2, -2]]),\n",
       " array([[ 1, -1, -2, -2],\n",
       "        [-1, -2, -2,  1],\n",
       "        [-2,  2, -2, -2],\n",
       "        [-2, -2, -1, -2],\n",
       "        [ 2, -2, -2,  2],\n",
       "        [-2, -2, -2, -2]]),\n",
       " array([[ 1, -1, -2, -2],\n",
       "        [-1, -2, -2,  1],\n",
       "        [-2,  2, -1, -2],\n",
       "        [-2, -2, -1, -2],\n",
       "        [ 2, -2, -2,  2],\n",
       "        [-2, -2, -2, -2]]),\n",
       " array([[ 1, -1, -2, -2],\n",
       "        [-1, -2, -2,  1],\n",
       "        [-2,  2, -1, -2],\n",
       "        [-1, -2, -1, -2],\n",
       "        [ 2, -2, -2,  2],\n",
       "        [-2, -2, -2, -2]]),\n",
       " array([[ 1, -1, -2, -2],\n",
       "        [-1, -2, -2,  1],\n",
       "        [-2,  2, -1, -2],\n",
       "        [-1, -2, -1,  0],\n",
       "        [ 2, -2, -2,  2],\n",
       "        [-2, -2, -2, -2]]),\n",
       " array([[ 1, -1, -2, -2],\n",
       "        [-1, -2, -2,  1],\n",
       "        [-2,  2, -1, -2],\n",
       "        [-1, -2, -1,  0],\n",
       "        [ 2, -2, -2,  2],\n",
       "        [-2, -2, -1, -2]]),\n",
       " array([[ 1, -1, -2, -2],\n",
       "        [-1, -2, -2,  1],\n",
       "        [-2,  2, -1, -2],\n",
       "        [-1, -2, -1,  0],\n",
       "        [ 2, -2, -1,  2],\n",
       "        [-2, -2, -1, -2]]),\n",
       " array([[ 1, -1, -1, -2],\n",
       "        [-1, -2, -2,  1],\n",
       "        [-2,  2, -1, -2],\n",
       "        [-1, -2, -1,  0],\n",
       "        [ 2, -2, -1,  2],\n",
       "        [-2, -2, -1, -2]]),\n",
       " array([[ 1, -1, -1, -2],\n",
       "        [-1, -2, -2,  1],\n",
       "        [-2,  2, -1, -2],\n",
       "        [-1, -2, -1,  0],\n",
       "        [ 2, -2, -1,  2],\n",
       "        [-1, -2, -1, -2]]),\n",
       " array([[ 1, -1, -1, -2],\n",
       "        [-1, -2, -2,  1],\n",
       "        [-2,  2, -1, -1],\n",
       "        [-1, -2, -1,  0],\n",
       "        [ 2, -2, -1,  2],\n",
       "        [-1, -2, -1, -2]]),\n",
       " array([[ 1, -1, -1, -2],\n",
       "        [-1,  0, -2,  1],\n",
       "        [-2,  2, -1, -1],\n",
       "        [-1, -2, -1,  0],\n",
       "        [ 2, -2, -1,  2],\n",
       "        [-1, -2, -1, -2]]),\n",
       " array([[ 1, -1, -1, -2],\n",
       "        [-1,  0, -2,  1],\n",
       "        [-2,  2, -1, -1],\n",
       "        [-1, -1, -1,  0],\n",
       "        [ 2, -2, -1,  2],\n",
       "        [-1, -2, -1, -2]]),\n",
       " array([[ 1, -1, -1, -2],\n",
       "        [-1,  0, -2,  1],\n",
       "        [-1,  2, -1, -1],\n",
       "        [-1, -1, -1,  0],\n",
       "        [ 2, -2, -1,  2],\n",
       "        [-1, -2, -1, -2]]),\n",
       " array([[ 1, -1, -1, -2],\n",
       "        [-1,  0, -2,  1],\n",
       "        [-1,  2, -1, -1],\n",
       "        [-1, -1, -1,  0],\n",
       "        [ 2,  0, -1,  2],\n",
       "        [-1, -2, -1, -2]]),\n",
       " array([[ 1, -1, -1, -2],\n",
       "        [-1,  0, -2,  1],\n",
       "        [-1,  2, -1, -1],\n",
       "        [-1, -1, -1,  0],\n",
       "        [ 2,  0, -1,  2],\n",
       "        [-1, -1, -1, -2]]),\n",
       " array([[ 1, -1, -1, -2],\n",
       "        [-1,  0, -1,  1],\n",
       "        [-1,  2, -1, -1],\n",
       "        [-1, -1, -1,  0],\n",
       "        [ 2,  0, -1,  2],\n",
       "        [-1, -1, -1, -2]]),\n",
       " array([[ 1, -1, -1, -1],\n",
       "        [-1,  0, -1,  1],\n",
       "        [-1,  2, -1, -1],\n",
       "        [-1, -1, -1,  0],\n",
       "        [ 2,  0, -1,  2],\n",
       "        [-1, -1, -1, -2]]),\n",
       " array([[ 1, -1, -1, -1],\n",
       "        [-1,  0, -1,  1],\n",
       "        [-1,  2, -1, -1],\n",
       "        [-1, -1, -1,  0],\n",
       "        [ 2,  0, -1,  2],\n",
       "        [-1, -1, -1, -1]])]"
      ]
     },
     "execution_count": 25,
     "metadata": {},
     "output_type": "execute_result"
    }
   ],
   "source": [
    "trajectory"
   ]
  },
  {
   "cell_type": "code",
   "execution_count": 26,
   "id": "25b387c7-f8c9-4a2c-a458-eb0003f0eb9d",
   "metadata": {},
   "outputs": [],
   "source": [
    "def plot_nurikabe_board(board):\n",
    "    # Colors: gray for -2, black for -1, white for 0 and white for numbers\n",
    "    cmap = ListedColormap(['gray', 'black', 'white', 'white'])\n",
    "    max_val = np.max(board) if np.max(board) > 1 else 2\n",
    "    boundaries = [-2.5, -1.5, -0.5, 0.5, max_val + 0.5]\n",
    "    norm = BoundaryNorm(boundaries, cmap.N)\n",
    "\n",
    "    fig, ax = plt.subplots()\n",
    "    heatmap = ax.imshow(board, cmap=cmap, norm=norm)\n",
    "\n",
    "    for i in range(board.shape[0]):\n",
    "        for j in range(board.shape[1]):\n",
    "            if board[i, j] > 0:\n",
    "                ax.text(j, i, int(board[i, j]), ha='center', va='center', color='black',\n",
    "                       fontdict={'size': 16})\n",
    "\n",
    "    ax.axis('off')\n",
    "    plt.show()\n"
   ]
  },
  {
   "cell_type": "code",
   "execution_count": 27,
   "id": "eeae1e5a-aa65-4bec-bd57-6c8462c02545",
   "metadata": {},
   "outputs": [
    {
     "name": "stdout",
     "output_type": "stream",
     "text": [
      "0\n"
     ]
    },
    {
     "data": {
      "image/png": "[encoded data removed]",
      "text/plain": [
       "<Figure size 640x480 with 1 Axes>"
      ]
     },
     "metadata": {},
     "output_type": "display_data"
    },
    {
     "name": "stdout",
     "output_type": "stream",
     "text": [
      "1\n"
     ]
    },
    {
     "data": {
      "image/png": "[encoded data removed]",
      "text/plain": [
       "<Figure size 640x480 with 1 Axes>"
      ]
     },
     "metadata": {},
     "output_type": "display_data"
    },
    {
     "name": "stdout",
     "output_type": "stream",
     "text": [
      "2\n"
     ]
    },
    {
     "data": {
      "image/png": "[encoded data removed]",
      "text/plain": [
       "<Figure size 640x480 with 1 Axes>"
      ]
     },
     "metadata": {},
     "output_type": "display_data"
    },
    {
     "name": "stdout",
     "output_type": "stream",
     "text": [
      "3\n"
     ]
    },
    {
     "data": {
      "image/png": "[encoded data removed]",
      "text/plain": [
       "<Figure size 640x480 with 1 Axes>"
      ]
     },
     "metadata": {},
     "output_type": "display_data"
    },
    {
     "name": "stdout",
     "output_type": "stream",
     "text": [
      "4\n"
     ]
    },
    {
     "data": {
      "image/png": "[encoded data removed]",
      "text/plain": [
       "<Figure size 640x480 with 1 Axes>"
      ]
     },
     "metadata": {},
     "output_type": "display_data"
    },
    {
     "name": "stdout",
     "output_type": "stream",
     "text": [
      "5\n"
     ]
    },
    {
     "data": {
      "image/png": "[encoded data removed]",
      "text/plain": [
       "<Figure size 640x480 with 1 Axes>"
      ]
     },
     "metadata": {},
     "output_type": "display_data"
    },
    {
     "name": "stdout",
     "output_type": "stream",
     "text": [
      "6\n"
     ]
    },
    {
     "data": {
      "image/png": "[encoded data removed]",
      "text/plain": [
       "<Figure size 640x480 with 1 Axes>"
      ]
     },
     "metadata": {},
     "output_type": "display_data"
    },
    {
     "name": "stdout",
     "output_type": "stream",
     "text": [
      "7\n"
     ]
    },
    {
     "data": {
      "image/png": "[encoded data removed]",
      "text/plain": [
       "<Figure size 640x480 with 1 Axes>"
      ]
     },
     "metadata": {},
     "output_type": "display_data"
    },
    {
     "name": "stdout",
     "output_type": "stream",
     "text": [
      "8\n"
     ]
    },
    {
     "data": {
      "image/png": "[encoded data removed]",
      "text/plain": [
       "<Figure size 640x480 with 1 Axes>"
      ]
     },
     "metadata": {},
     "output_type": "display_data"
    },
    {
     "name": "stdout",
     "output_type": "stream",
     "text": [
      "9\n"
     ]
    },
    {
     "data": {
      "image/png": "[encoded data removed]",
      "text/plain": [
       "<Figure size 640x480 with 1 Axes>"
      ]
     },
     "metadata": {},
     "output_type": "display_data"
    },
    {
     "name": "stdout",
     "output_type": "stream",
     "text": [
      "10\n"
     ]
    },
    {
     "data": {
      "image/png": "[encoded data removed]",
      "text/plain": [
       "<Figure size 640x480 with 1 Axes>"
      ]
     },
     "metadata": {},
     "output_type": "display_data"
    },
    {
     "name": "stdout",
     "output_type": "stream",
     "text": [
      "11\n"
     ]
    },
    {
     "data": {
      "image/png": "[encoded data removed]",
      "text/plain": [
       "<Figure size 640x480 with 1 Axes>"
      ]
     },
     "metadata": {},
     "output_type": "display_data"
    },
    {
     "name": "stdout",
     "output_type": "stream",
     "text": [
      "12\n"
     ]
    },
    {
     "data": {
      "image/png": "[encoded data removed]",
      "text/plain": [
       "<Figure size 640x480 with 1 Axes>"
      ]
     },
     "metadata": {},
     "output_type": "display_data"
    },
    {
     "name": "stdout",
     "output_type": "stream",
     "text": [
      "13\n"
     ]
    },
    {
     "data": {
      "image/png": "[encoded data removed]",
      "text/plain": [
       "<Figure size 640x480 with 1 Axes>"
      ]
     },
     "metadata": {},
     "output_type": "display_data"
    },
    {
     "name": "stdout",
     "output_type": "stream",
     "text": [
      "14\n"
     ]
    },
    {
     "data": {
      "image/png": "[encoded data removed]",
      "text/plain": [
       "<Figure size 640x480 with 1 Axes>"
      ]
     },
     "metadata": {},
     "output_type": "display_data"
    },
    {
     "name": "stdout",
     "output_type": "stream",
     "text": [
      "15\n"
     ]
    },
    {
     "data": {
      "image/png": "[encoded data removed]",
      "text/plain": [
       "<Figure size 640x480 with 1 Axes>"
      ]
     },
     "metadata": {},
     "output_type": "display_data"
    },
    {
     "name": "stdout",
     "output_type": "stream",
     "text": [
      "16\n"
     ]
    },
    {
     "data": {
      "image/png": "[encoded data removed]",
      "text/plain": [
       "<Figure size 640x480 with 1 Axes>"
      ]
     },
     "metadata": {},
     "output_type": "display_data"
    },
    {
     "name": "stdout",
     "output_type": "stream",
     "text": [
      "17\n"
     ]
    },
    {
     "data": {
      "image/png": "[encoded data removed]",
      "text/plain": [
       "<Figure size 640x480 with 1 Axes>"
      ]
     },
     "metadata": {},
     "output_type": "display_data"
    },
    {
     "name": "stdout",
     "output_type": "stream",
     "text": [
      "18\n"
     ]
    },
    {
     "data": {
      "image/png": "[encoded data removed]",
      "text/plain": [
       "<Figure size 640x480 with 1 Axes>"
      ]
     },
     "metadata": {},
     "output_type": "display_data"
    },
    {
     "name": "stdout",
     "output_type": "stream",
     "text": [
      "19\n"
     ]
    },
    {
     "data": {
      "image/png": "[encoded data removed]",
      "text/plain": [
       "<Figure size 640x480 with 1 Axes>"
      ]
     },
     "metadata": {},
     "output_type": "display_data"
    }
   ],
   "source": [
    "for i, board in enumerate(trajectory):\n",
    "    print(i)\n",
    "    plot_nurikabe_board(board)"
   ]
  },
  {
   "cell_type": "code",
   "execution_count": 72,
   "id": "c47b6c3c-c7b3-418f-a75f-ffc98ab2b8f2",
   "metadata": {},
   "outputs": [],
   "source": [
    "def generate_trajectory_basic(solution):\n",
    "    nrows, ncols = solution.shape\n",
    "    initial_board = np.where(\n",
    "        (solution == 0) | (solution == -1),\n",
    "        -2, solution)\n",
    "    \n",
    "    current_board = np.copy(initial_board)\n",
    "    trajectory = [np.copy(current_board)]\n",
    "\n",
    "    def check(i, j, answer):\n",
    "        return solution[i, j] == answer\n",
    "\n",
    "    # mark off single-celled islands\n",
    "    for i in range(nrows):\n",
    "        for j in range(ncols):\n",
    "            if current_board[i, j] == 1:\n",
    "                if (i - 1 >= 0 and j >= 0) and current_board[i - 1, j] != -1:\n",
    "                    assert check(i - 1, j, -1)\n",
    "                    current_board[i - 1, j] = -1\n",
    "                    \n",
    "                    trajectory.append(np.copy(current_board))\n",
    "                if (i + 1 < nrows and j < ncols) and current_board[i + 1, j] != -1:\n",
    "                    assert check(i + 1, j, -1)\n",
    "                    current_board[i + 1, j] = -1\n",
    "                    \n",
    "                    trajectory.append(np.copy(current_board))\n",
    "                if (i < nrows and j + 1 < ncols) and current_board[i, j + 1] != -1:\n",
    "                    assert check(i, j + 1, -1)\n",
    "                    current_board[i, j + 1] = -1\n",
    "                    \n",
    "                    trajectory.append(np.copy(current_board))\n",
    "                if (i >= 0 and j - 1 >= 0) and current_board[i, j - 1] != -1:\n",
    "                    assert check(i, j - 1, -1)\n",
    "                    current_board[i, j - 1] = -1\n",
    "                    \n",
    "                    trajectory.append(np.copy(current_board))\n",
    "\n",
    "    # separate adjacent islands\n",
    "    for i in range(nrows - 1):\n",
    "        for j in range(ncols):\n",
    "            if current_board[i, j] >= 1:\n",
    "                # (1, -1)\n",
    "                ni, nj = i + 1, j - 1\n",
    "                if (0 <= ni < nrows and 0 <= nj < ncols) and current_board[ni, nj] >= 1:\n",
    "                    if current_board[i, j - 1] != -1:\n",
    "                        assert check(i, j - 1, -1)\n",
    "                        current_board[i, j - 1] = -1\n",
    "                        trajectory.append(np.copy(current_board))\n",
    "                    if current_board[i + 1, j] != -1:\n",
    "                        assert check(i + 1, j, -1)\n",
    "                        current_board[i + 1, j] = -1\n",
    "                        trajectory.append(np.copy(current_board))\n",
    "                # (1, 1)\n",
    "                ni, nj = i + 1, j + 1\n",
    "                if (0 <= ni < nrows and 0 <= nj < ncols) and current_board[ni, nj] >= 1:\n",
    "                    if current_board[i, j + 1] != -1:\n",
    "                        assert check(i, j + 1, -1)\n",
    "                        current_board[i, j + 1] = -1\n",
    "                        trajectory.append(np.copy(current_board))\n",
    "                    if current_board[i + 1, j] != -1:\n",
    "                        assert check(i + 1, j, -1)\n",
    "                        current_board[i + 1, j] = -1\n",
    "                        trajectory.append(np.copy(current_board))\n",
    "\n",
    "    # off by 1\n",
    "    for i in range(nrows):\n",
    "        for j in range(ncols):\n",
    "            if current_board[i, j] >= 1:\n",
    "                ni, nj = i, j + 2\n",
    "                if (0 <= ni < nrows and 0 <= nj < ncols) and current_board[ni, nj] >= 1:\n",
    "                    current_board[i, j + 1] = -1\n",
    "                    trajectory.append(np.copy(current_board))\n",
    "                ni, nj = i + 2, j\n",
    "                if (0 <= ni < nrows and 0 <= nj < ncols) and current_board[ni, nj] >= 1:\n",
    "                    current_board[i + 1, j] = -1\n",
    "                    trajectory.append(np.copy(current_board))\n",
    "                \n",
    "    \n",
    "    # check for elbow shapes\n",
    "    for i in range(nrows - 1):\n",
    "        for j in range(ncols - 1):\n",
    "            subgrid = current_board[i:i+2, j:j+2]\n",
    "            # print(f'i={i}, j={j}', subgrid)\n",
    "            if (subgrid[0, 0] == -1 and subgrid[0, 1] == -1 and subgrid[1, 0] == -1 and subgrid[1, 1] == -2):\n",
    "                assert check(i + 1, j + 1, 0)\n",
    "                current_board[i + 1, j + 1] = 0\n",
    "                trajectory.append(np.copy(current_board))\n",
    "            if (subgrid[0, 0] == -1 and subgrid[0, 1] == -1 and subgrid[1, 0] == -2 and subgrid[1, 1] == -1):\n",
    "                assert check(i + 1, j, 0)\n",
    "                current_board[i + 1, j] = 0\n",
    "                trajectory.append(np.copy(current_board))\n",
    "            if (subgrid[0, 0] == -1 and subgrid[0, 1] == -2 and subgrid[1, 0] == -1 and subgrid[1, 1] == -1):\n",
    "                assert check(i, j + 1, 0)\n",
    "                current_board[i, j + 1] = 0\n",
    "                trajectory.append(np.copy(current_board))\n",
    "            if (subgrid[0, 0] == -2 and subgrid[0, 1] == -1 and subgrid[1, 0] == -1 and subgrid[1, 1] == -1):\n",
    "                assert check(i, j, 0)\n",
    "                current_board[i, j] = 0\n",
    "                trajectory.append(np.copy(current_board))\n",
    "\n",
    "\n",
    "    return trajectory\n",
    "                "
   ]
  },
  {
   "cell_type": "code",
   "execution_count": 74,
   "id": "5ea01164-4389-4aa7-a4c1-1b7c13d6ec31",
   "metadata": {},
   "outputs": [
    {
     "name": "stdout",
     "output_type": "stream",
     "text": [
      "0\n"
     ]
    },
    {
     "data": {
      "image/png": "[encoded data removed]",
      "text/plain": [
       "<Figure size 640x480 with 1 Axes>"
      ]
     },
     "metadata": {},
     "output_type": "display_data"
    },
    {
     "name": "stdout",
     "output_type": "stream",
     "text": [
      "1\n"
     ]
    },
    {
     "data": {
      "image/png": "[encoded data removed]",
      "text/plain": [
       "<Figure size 640x480 with 1 Axes>"
      ]
     },
     "metadata": {},
     "output_type": "display_data"
    },
    {
     "name": "stdout",
     "output_type": "stream",
     "text": [
      "2\n"
     ]
    },
    {
     "data": {
      "image/png": "[encoded data removed]",
      "text/plain": [
       "<Figure size 640x480 with 1 Axes>"
      ]
     },
     "metadata": {},
     "output_type": "display_data"
    },
    {
     "name": "stdout",
     "output_type": "stream",
     "text": [
      "3\n"
     ]
    },
    {
     "data": {
      "image/png": "[encoded data removed]",
      "text/plain": [
       "<Figure size 640x480 with 1 Axes>"
      ]
     },
     "metadata": {},
     "output_type": "display_data"
    },
    {
     "name": "stdout",
     "output_type": "stream",
     "text": [
      "4\n"
     ]
    },
    {
     "data": {
      "image/png": "[encoded data removed]",
      "text/plain": [
       "<Figure size 640x480 with 1 Axes>"
      ]
     },
     "metadata": {},
     "output_type": "display_data"
    }
   ],
   "source": [
    "trajectory = generate_trajectory_basic(\n",
    "    np.array([\n",
    "        [2, -2, 2],\n",
    "        [-2, -2, -2],\n",
    "        [2, -2, 2]\n",
    "    ])\n",
    ")\n",
    "\n",
    "for i, board in enumerate(trajectory):\n",
    "    print(i)\n",
    "    plot_nurikabe_board(board)"
   ]
  },
  {
   "cell_type": "code",
   "execution_count": null,
   "id": "d257c02b-91e1-47bd-8ce6-303c286431aa",
   "metadata": {},
   "outputs": [],
   "source": []
  }
 ],
 "metadata": {
  "kernelspec": {
   "display_name": "Python 3 (ipykernel)",
   "language": "python",
   "name": "python3"
  },
  "language_info": {
   "codemirror_mode": {
    "name": "ipython",
    "version": 3
   },
   "file_extension": ".py",
   "mimetype": "text/x-python",
   "name": "python",
   "nbconvert_exporter": "python",
   "pygments_lexer": "ipython3",
   "version": "3.10.14"
  }
 },
 "nbformat": 4,
 "nbformat_minor": 5
}
